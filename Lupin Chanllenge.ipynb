{
 "cells": [
  {
   "cell_type": "code",
   "execution_count": 258,
   "id": "4079a898-9ccf-4f5d-98fa-7ec518c54106",
   "metadata": {},
   "outputs": [],
   "source": [
    "import pandas as pd\n",
    "import seaborn as sns\n",
    "import pandas as pd\n",
    "import numpy as np\n",
    "import matplotlib.pyplot as plt\n",
    "from sklearn.model_selection import train_test_split\n",
    "from sklearn.linear_model import LogisticRegression\n",
    "from sklearn.metrics import accuracy_score\n",
    "from sklearn.metrics import confusion_matrix\n",
    "from sklearn.metrics import classification_report\n",
    "from sklearn.preprocessing import StandardScaler\n",
    "import lightgbm as lgb\n",
    "from sklearn.svm import LinearSVR\n",
    "from sklearn.metrics import mean_squared_error\n",
    "import warnings\n",
    "warnings.filterwarnings(\"ignore\")\n",
    "#from lazypredict.Supervised import LazyRegressor\n",
    "from sklearn.ensemble import HistGradientBoostingRegressor\n",
    "from sklearn.linear_model import HuberRegressor\n",
    "\n",
    "import numpy as np\n",
    "from sklearn.preprocessing import MinMaxScaler\n",
    "from sklearn.datasets import make_regression\n",
    "from sklearn.model_selection import train_test_split\n",
    "from lightgbm import LGBMRegressor\n",
    "from xgboost import XGBRegressor\n",
    "from scipy.stats import skew\n",
    "import seaborn as sns\n",
    "from sklearn.ensemble import GradientBoostingRegressor\n",
    "from sklearn.model_selection import KFold, cross_validate, train_test_split\n",
    "#import optuna\n",
    "import lightgbm as lgb\n",
    "#from sklearn.datasets import load_boston\n",
    "from sklearn.model_selection import train_test_split\n",
    "from sklearn.metrics import mean_squared_error\n",
    "import numpy as np # linear algebra\n",
    "import pandas as pd # data processing, CSV file I/O (e.g. pd.read_csv)\n",
    "from sklearn.model_selection import train_test_split\n",
    "from sklearn.compose import ColumnTransformer\n",
    "from sklearn.pipeline import Pipeline\n",
    "from sklearn.impute import SimpleImputer\n",
    "from sklearn.preprocessing import OneHotEncoder\n",
    "from sklearn.ensemble import RandomForestRegressor\n",
    "from sklearn.metrics import mean_absolute_error\n",
    "from sklearn.model_selection import train_test_split, cross_val_score, StratifiedKFold\n",
    "from sklearn.metrics import make_scorer, mean_squared_error\n",
    "from sklearn.ensemble import RandomForestRegressor\n",
    "from sklearn.preprocessing import OneHotEncoder\n",
    "from sklearn.ensemble import VotingRegressor\n",
    "from catboost import CatBoostRegressor\n",
    "from lightgbm import LGBMRegressor\n",
    "from xgboost import XGBRegressor\n",
    "import matplotlib.pyplot as plt\n",
    "from sklearn.base import copy\n",
    "import pandas as pd\n",
    "import numpy as np\n",
    "import random\n",
    "import optuna"
   ]
  },
  {
   "cell_type": "code",
   "execution_count": 259,
   "id": "2cd21365-f14e-4cb2-adc9-4aef0a6f1c8b",
   "metadata": {},
   "outputs": [],
   "source": [
    "train= pd.read_csv(r\"C:\\Users\\ehina\\OneDrive\\Desktop\\Py-DS-ML-Bootcamp-master\\Hackererath\\dataset\\train.csv\")\n",
    "test= pd.read_csv(r\"C:\\Users\\ehina\\OneDrive\\Desktop\\Py-DS-ML-Bootcamp-master\\Hackererath\\dataset\\test.csv\")"
   ]
  },
  {
   "cell_type": "code",
   "execution_count": 260,
   "id": "6b68a8ff-2d5e-4e19-bbc6-0d1cd25eff67",
   "metadata": {},
   "outputs": [
    {
     "data": {
      "text/html": [
       "<div>\n",
       "<style scoped>\n",
       "    .dataframe tbody tr th:only-of-type {\n",
       "        vertical-align: middle;\n",
       "    }\n",
       "\n",
       "    .dataframe tbody tr th {\n",
       "        vertical-align: top;\n",
       "    }\n",
       "\n",
       "    .dataframe thead th {\n",
       "        text-align: right;\n",
       "    }\n",
       "</style>\n",
       "<table border=\"1\" class=\"dataframe\">\n",
       "  <thead>\n",
       "    <tr style=\"text-align: right;\">\n",
       "      <th></th>\n",
       "      <th>candidate_id</th>\n",
       "      <th>gender</th>\n",
       "      <th>age</th>\n",
       "      <th>height_in_cm</th>\n",
       "      <th>weight_in_lbs</th>\n",
       "      <th>left_eyesight_lvl</th>\n",
       "      <th>right_eyesight_lvl</th>\n",
       "      <th>can_hear_left_ear</th>\n",
       "      <th>can_hear_right_ear</th>\n",
       "      <th>blood_pressure_lvl1</th>\n",
       "      <th>...</th>\n",
       "      <th>good_cholestrol_lvl</th>\n",
       "      <th>bad_cholestrol_lvl</th>\n",
       "      <th>hemoglobin_lvl</th>\n",
       "      <th>urea_lvl</th>\n",
       "      <th>creatinine_lvl</th>\n",
       "      <th>liver_enzyme_lvl1</th>\n",
       "      <th>liver_enzyme_lvl2</th>\n",
       "      <th>smoking_habit</th>\n",
       "      <th>drinking_habit</th>\n",
       "      <th>residential_area</th>\n",
       "    </tr>\n",
       "  </thead>\n",
       "  <tbody>\n",
       "    <tr>\n",
       "      <th>0</th>\n",
       "      <td>CAN_22401</td>\n",
       "      <td>Female</td>\n",
       "      <td>50</td>\n",
       "      <td>155</td>\n",
       "      <td>121.25</td>\n",
       "      <td>1.20</td>\n",
       "      <td>0.90</td>\n",
       "      <td>Slightly Defective</td>\n",
       "      <td>Slightly Defective</td>\n",
       "      <td>140.00</td>\n",
       "      <td>...</td>\n",
       "      <td>48.00</td>\n",
       "      <td>158.00</td>\n",
       "      <td>14.00</td>\n",
       "      <td>1.00</td>\n",
       "      <td>0.70</td>\n",
       "      <td>16.00</td>\n",
       "      <td>13.00</td>\n",
       "      <td>Does not Smoke</td>\n",
       "      <td>N</td>\n",
       "      <td>Urban</td>\n",
       "    </tr>\n",
       "    <tr>\n",
       "      <th>1</th>\n",
       "      <td>CAN_22402</td>\n",
       "      <td>Female</td>\n",
       "      <td>40</td>\n",
       "      <td>165</td>\n",
       "      <td>132.28</td>\n",
       "      <td>1.00</td>\n",
       "      <td>0.90</td>\n",
       "      <td>Slightly Defective</td>\n",
       "      <td>Slightly Defective</td>\n",
       "      <td>135.00</td>\n",
       "      <td>...</td>\n",
       "      <td>83.00</td>\n",
       "      <td>68.00</td>\n",
       "      <td>15.10</td>\n",
       "      <td>1.00</td>\n",
       "      <td>0.70</td>\n",
       "      <td>14.00</td>\n",
       "      <td>16.00</td>\n",
       "      <td>NaN</td>\n",
       "      <td>Y</td>\n",
       "      <td>Town</td>\n",
       "    </tr>\n",
       "    <tr>\n",
       "      <th>2</th>\n",
       "      <td>CAN_22403</td>\n",
       "      <td>Female</td>\n",
       "      <td>40</td>\n",
       "      <td>155</td>\n",
       "      <td>99.21</td>\n",
       "      <td>0.90</td>\n",
       "      <td>1.20</td>\n",
       "      <td>Slightly Defective</td>\n",
       "      <td>Slightly Defective</td>\n",
       "      <td>100.00</td>\n",
       "      <td>...</td>\n",
       "      <td>73.00</td>\n",
       "      <td>78.00</td>\n",
       "      <td>10.80</td>\n",
       "      <td>1.00</td>\n",
       "      <td>0.60</td>\n",
       "      <td>17.00</td>\n",
       "      <td>9.00</td>\n",
       "      <td>Does not Smoke</td>\n",
       "      <td>N</td>\n",
       "      <td>Town</td>\n",
       "    </tr>\n",
       "    <tr>\n",
       "      <th>3</th>\n",
       "      <td>CAN_22404</td>\n",
       "      <td>Male</td>\n",
       "      <td>50</td>\n",
       "      <td>175</td>\n",
       "      <td>176.37</td>\n",
       "      <td>1.50</td>\n",
       "      <td>1.50</td>\n",
       "      <td>Slightly Defective</td>\n",
       "      <td>Slightly Defective</td>\n",
       "      <td>128.00</td>\n",
       "      <td>...</td>\n",
       "      <td>47.00</td>\n",
       "      <td>80.00</td>\n",
       "      <td>15.60</td>\n",
       "      <td>1.00</td>\n",
       "      <td>1.00</td>\n",
       "      <td>25.00</td>\n",
       "      <td>47.00</td>\n",
       "      <td>Occassionaly Smokes</td>\n",
       "      <td>Y</td>\n",
       "      <td>Rural</td>\n",
       "    </tr>\n",
       "    <tr>\n",
       "      <th>4</th>\n",
       "      <td>CAN_22405</td>\n",
       "      <td>Male</td>\n",
       "      <td>45</td>\n",
       "      <td>180</td>\n",
       "      <td>143.30</td>\n",
       "      <td>1.00</td>\n",
       "      <td>1.00</td>\n",
       "      <td>Slightly Defective</td>\n",
       "      <td>Slightly Defective</td>\n",
       "      <td>130.00</td>\n",
       "      <td>...</td>\n",
       "      <td>66.00</td>\n",
       "      <td>55.00</td>\n",
       "      <td>14.90</td>\n",
       "      <td>1.00</td>\n",
       "      <td>1.10</td>\n",
       "      <td>32.00</td>\n",
       "      <td>17.00</td>\n",
       "      <td>Chain Smoker</td>\n",
       "      <td>Y</td>\n",
       "      <td>Town</td>\n",
       "    </tr>\n",
       "  </tbody>\n",
       "</table>\n",
       "<p>5 rows × 23 columns</p>\n",
       "</div>"
      ],
      "text/plain": [
       "  candidate_id  gender  age  height_in_cm  weight_in_lbs  left_eyesight_lvl  \\\n",
       "0    CAN_22401  Female   50           155         121.25               1.20   \n",
       "1    CAN_22402  Female   40           165         132.28               1.00   \n",
       "2    CAN_22403  Female   40           155          99.21               0.90   \n",
       "3    CAN_22404    Male   50           175         176.37               1.50   \n",
       "4    CAN_22405    Male   45           180         143.30               1.00   \n",
       "\n",
       "   right_eyesight_lvl   can_hear_left_ear  can_hear_right_ear  \\\n",
       "0                0.90  Slightly Defective  Slightly Defective   \n",
       "1                0.90  Slightly Defective  Slightly Defective   \n",
       "2                1.20  Slightly Defective  Slightly Defective   \n",
       "3                1.50  Slightly Defective  Slightly Defective   \n",
       "4                1.00  Slightly Defective  Slightly Defective   \n",
       "\n",
       "   blood_pressure_lvl1  ...  good_cholestrol_lvl  bad_cholestrol_lvl  \\\n",
       "0               140.00  ...                48.00              158.00   \n",
       "1               135.00  ...                83.00               68.00   \n",
       "2               100.00  ...                73.00               78.00   \n",
       "3               128.00  ...                47.00               80.00   \n",
       "4               130.00  ...                66.00               55.00   \n",
       "\n",
       "   hemoglobin_lvl  urea_lvl  creatinine_lvl  liver_enzyme_lvl1  \\\n",
       "0           14.00      1.00            0.70              16.00   \n",
       "1           15.10      1.00            0.70              14.00   \n",
       "2           10.80      1.00            0.60              17.00   \n",
       "3           15.60      1.00            1.00              25.00   \n",
       "4           14.90      1.00            1.10              32.00   \n",
       "\n",
       "   liver_enzyme_lvl2        smoking_habit  drinking_habit  residential_area  \n",
       "0              13.00       Does not Smoke               N             Urban  \n",
       "1              16.00                  NaN               Y              Town  \n",
       "2               9.00       Does not Smoke               N              Town  \n",
       "3              47.00  Occassionaly Smokes               Y             Rural  \n",
       "4              17.00         Chain Smoker               Y              Town  \n",
       "\n",
       "[5 rows x 23 columns]"
      ]
     },
     "execution_count": 260,
     "metadata": {},
     "output_type": "execute_result"
    }
   ],
   "source": [
    "train.head()\n",
    "test.head()"
   ]
  },
  {
   "cell_type": "code",
   "execution_count": 261,
   "id": "bf56e4ae-d8fb-4ed8-9f1e-8b646481e161",
   "metadata": {},
   "outputs": [
    {
     "name": "stdout",
     "output_type": "stream",
     "text": [
      "X_train shape: (17920, 22)\n",
      "X_test shape: (4480, 22)\n",
      "y_train shape: (17920,)\n",
      "y_test shape: (4480,)\n"
     ]
    }
   ],
   "source": [
    "\n",
    "# Separate features and target variable\n",
    "X = train.drop(columns = ['triglyceride_lvl', 'candidate_id'])\n",
    "y = train['triglyceride_lvl']\n",
    "\n",
    "# Split the data into training and testing sets\n",
    "X_train, X_test, y_train, y_test = train_test_split(X, y, test_size=0.2, random_state=42)\n",
    "\n",
    "# Display the shapes of the resulting datasets\n",
    "print(\"X_train shape:\", X_train.shape)\n",
    "print(\"X_test shape:\", X_test.shape)\n",
    "print(\"y_train shape:\", y_train.shape)\n",
    "print(\"y_test shape:\", y_test.shape)"
   ]
  },
  {
   "cell_type": "code",
   "execution_count": 262,
   "id": "fa96924a-bead-4ba0-8861-28652fdd8b91",
   "metadata": {},
   "outputs": [],
   "source": [
    "# Select numerical data\n",
    "numerical_data = X_train.select_dtypes(include=['int', 'float'])\n",
    "\n",
    "\n",
    "# Select categorical data\n",
    "categorical_data = X_train.select_dtypes(include=['object'])\n"
   ]
  },
  {
   "cell_type": "code",
   "execution_count": 263,
   "id": "8407a20d-d2ec-4cb3-a1db-afc5010efd90",
   "metadata": {},
   "outputs": [
    {
     "name": "stdout",
     "output_type": "stream",
     "text": [
      "categorical columns : ['gender', 'can_hear_left_ear', 'can_hear_right_ear', 'smoking_habit', 'drinking_habit', 'residential_area']\n",
      "numerical columns : ['age', 'height_in_cm', 'weight_in_lbs', 'left_eyesight_lvl', 'right_eyesight_lvl', 'blood_pressure_lvl1', 'blood_pressure_lvl2', 'glucose_lvl', 'total_cholestrol', 'good_cholestrol_lvl', 'bad_cholestrol_lvl', 'hemoglobin_lvl', 'urea_lvl', 'creatinine_lvl', 'liver_enzyme_lvl1', 'liver_enzyme_lvl2']\n"
     ]
    }
   ],
   "source": [
    "\n",
    "\n",
    "print('categorical columns :', categorical_cols)\n",
    "print('numerical columns :', numerical_cols)"
   ]
  },
  {
   "cell_type": "code",
   "execution_count": 264,
   "id": "3953bff3-b31e-47bc-886c-d0c0fb205251",
   "metadata": {},
   "outputs": [],
   "source": [
    "# Preprocessing for numerical data\n",
    "numerical_transformer = Pipeline(steps=[\n",
    "    ('imputer', SimpleImputer(strategy='mean')),  # Impute missing values with mean\n",
    "    ('scaler', StandardScaler())  # Standardize numerical features\n",
    "])\n",
    "\n",
    "# Preprocessing for categorical data\n",
    "categorical_transformer = Pipeline(steps=[\n",
    "    ('imputer', SimpleImputer(strategy='most_frequent')),  # Impute missing values with most frequent value\n",
    "    ('onehot', OneHotEncoder(handle_unknown='ignore'))  # One-hot encode categorical features\n",
    "])\n",
    "\n",
    "# Bundle preprocessing for numerical and categorical data\n",
    "preprocessor = ColumnTransformer(\n",
    "    transformers=[\n",
    "        ('num', numerical_transformer, numerical_cols),\n",
    "        ('cat', categorical_transformer, categorical_cols)\n",
    "    ])"
   ]
  },
  {
   "cell_type": "code",
   "execution_count": 265,
   "id": "6ae4f4e2-16fa-4330-9666-ea4661273eec",
   "metadata": {},
   "outputs": [],
   "source": [
    "model = HuberRegressor()\n",
    "\n"
   ]
  },
  {
   "cell_type": "code",
   "execution_count": 172,
   "id": "bfb1d78e-1cb4-4d1d-8d73-a3731d468895",
   "metadata": {},
   "outputs": [
    {
     "name": "stderr",
     "output_type": "stream",
     "text": [
      "  2%|█▉                                                                                 | 1/42 [00:02<01:30,  2.21s/it]"
     ]
    },
    {
     "name": "stdout",
     "output_type": "stream",
     "text": [
      "{'Model': 'AdaBoostRegressor', 'R-Squared': -0.05220935259385251, 'Adjusted R-Squared': -0.05740311650613994, 'RMSE': 84.05173386584711, 'Time taken': 2.2101287841796875, 'custom_score': 26.20104712536724}\n"
     ]
    },
    {
     "name": "stderr",
     "output_type": "stream",
     "text": [
      "  5%|███▉                                                                               | 2/42 [00:04<01:20,  2.02s/it]"
     ]
    },
    {
     "name": "stdout",
     "output_type": "stream",
     "text": [
      "{'Model': 'BaggingRegressor', 'R-Squared': 0.8466523515213525, 'Adjusted R-Squared': 0.845895418995768, 'RMSE': 32.08737266238855, 'Time taken': 1.8792901039123535, 'custom_score': 81.51140625}\n",
      "{'Model': 'BayesianRidge', 'R-Squared': 0.44757637746734114, 'Adjusted R-Squared': 0.4448495837281178, 'RMSE': 60.90202294963431, 'Time taken': 0.0752251148223877, 'custom_score': 54.66625122116261}\n"
     ]
    },
    {
     "name": "stderr",
     "output_type": "stream",
     "text": [
      " 14%|███████████▊                                                                       | 6/42 [00:04<00:17,  2.05it/s]"
     ]
    },
    {
     "name": "stdout",
     "output_type": "stream",
     "text": [
      "{'Model': 'DecisionTreeRegressor', 'R-Squared': 0.6849738654424913, 'Adjusted R-Squared': 0.6834188789133764, 'RMSE': 45.99058036318804, 'Time taken': 0.310194730758667, 'custom_score': 73.25803571428571}\n",
      "{'Model': 'DummyRegressor', 'R-Squared': -0.00021539089585598248, 'Adjusted R-Squared': -0.005152509720111942, 'RMSE': 81.9487558316331, 'Time taken': 0.05610918998718262, 'custom_score': 40.079399563536334}\n",
      "{'Model': 'ElasticNet', 'R-Squared': 0.3164505161251019, 'Adjusted R-Squared': 0.313076477838082, 'RMSE': 67.74551954162108, 'Time taken': 0.056261301040649414, 'custom_score': 51.40709516060716}\n"
     ]
    },
    {
     "name": "stderr",
     "output_type": "stream",
     "text": [
      " 19%|███████████████▊                                                                   | 8/42 [00:05<00:12,  2.70it/s]"
     ]
    },
    {
     "name": "stdout",
     "output_type": "stream",
     "text": [
      "{'Model': 'ElasticNetCV', 'R-Squared': 0.32483190831221, 'Adjusted R-Squared': 0.3214992410433898, 'RMSE': 67.32890518469478, 'Time taken': 0.27779459953308105, 'custom_score': 51.7004647652155}\n",
      "{'Model': 'ExtraTreeRegressor', 'R-Squared': 0.1598424625742756, 'Adjusted R-Squared': 0.1556953982208168, 'RMSE': 75.10622982768187, 'Time taken': 0.19104290008544922, 'custom_score': 49.30558035714286}\n"
     ]
    },
    {
     "name": "stderr",
     "output_type": "stream",
     "text": [
      " 21%|█████████████████▊                                                                 | 9/42 [00:15<01:45,  3.19s/it]"
     ]
    },
    {
     "name": "stdout",
     "output_type": "stream",
     "text": [
      "{'Model': 'ExtraTreesRegressor', 'R-Squared': 0.7094890059134292, 'Adjusted R-Squared': 0.7080550274817701, 'RMSE': 44.16486264605204, 'Time taken': 10.624005794525146, 'custom_score': 68.95962946428571}\n",
      "{'Model': 'GammaRegressor', 'R-Squared': 0.25689539491405744, 'Adjusted R-Squared': 0.2532273892349256, 'RMSE': 70.63510160587182, 'Time taken': 0.06699299812316895, 'custom_score': 50.336586617824004}\n"
     ]
    },
    {
     "name": "stderr",
     "output_type": "stream",
     "text": [
      " 26%|█████████████████████▍                                                            | 11/42 [01:29<09:19, 18.05s/it]"
     ]
    },
    {
     "name": "stdout",
     "output_type": "stream",
     "text": [
      "{'Model': 'GaussianProcessRegressor', 'R-Squared': -0.06229709190812427, 'Adjusted R-Squared': -0.06754064946297711, 'RMSE': 84.45368307619563, 'Time taken': 73.91460132598877, 'custom_score': 48.31404845295942}\n"
     ]
    },
    {
     "name": "stderr",
     "output_type": "stream",
     "text": [
      " 29%|███████████████████████▍                                                          | 12/42 [01:33<07:21, 14.71s/it]"
     ]
    },
    {
     "name": "stdout",
     "output_type": "stream",
     "text": [
      "{'Model': 'GradientBoostingRegressor', 'R-Squared': 0.8175244247825912, 'Adjusted R-Squared': 0.8166237151898645, 'RMSE': 35.00241168881689, 'Time taken': 4.083327531814575, 'custom_score': 76.5138758800936}\n"
     ]
    },
    {
     "name": "stderr",
     "output_type": "stream",
     "text": [
      " 31%|█████████████████████████▍                                                        | 13/42 [01:34<05:26, 11.24s/it]"
     ]
    },
    {
     "name": "stdout",
     "output_type": "stream",
     "text": [
      "{'Model': 'HistGradientBoostingRegressor', 'R-Squared': 0.8866089074193358, 'Adjusted R-Squared': 0.8860492026769587, 'RMSE': 27.59211985505127, 'Time taken': 1.0886902809143066, 'custom_score': 83.44590413074901}\n"
     ]
    },
    {
     "name": "stderr",
     "output_type": "stream",
     "text": [
      " 33%|███████████████████████████▎                                                      | 14/42 [01:35<03:53,  8.35s/it]"
     ]
    },
    {
     "name": "stdout",
     "output_type": "stream",
     "text": [
      "{'Model': 'HuberRegressor', 'R-Squared': 0.8992802942674372, 'Adjusted R-Squared': 0.8987831361956139, 'RMSE': 26.00475832395514, 'Time taken': 0.3728139400482178, 'custom_score': 94.16710949605051}\n"
     ]
    },
    {
     "name": "stderr",
     "output_type": "stream",
     "text": [
      " 36%|█████████████████████████████▎                                                    | 15/42 [01:35<02:45,  6.12s/it]"
     ]
    },
    {
     "name": "stdout",
     "output_type": "stream",
     "text": [
      "{'Model': 'KNeighborsRegressor', 'R-Squared': 0.3058287132442856, 'Adjusted R-Squared': 0.30240224514721903, 'RMSE': 68.26984562329528, 'Time taken': 0.26676058769226074, 'custom_score': 51.78357142857143}\n"
     ]
    },
    {
     "name": "stderr",
     "output_type": "stream",
     "text": [
      " 38%|███████████████████████████████▏                                                  | 16/42 [02:01<05:06, 11.78s/it]"
     ]
    },
    {
     "name": "stdout",
     "output_type": "stream",
     "text": [
      "{'Model': 'KernelRidge', 'R-Squared': 0.44765773343922977, 'Adjusted R-Squared': 0.44493134127761047, 'RMSE': 60.89753823400951, 'Time taken': 26.15451717376709, 'custom_score': 54.66018235750863}\n",
      "{'Model': 'Lars', 'R-Squared': 0.4476627454207138, 'Adjusted R-Squared': 0.44493637799851404, 'RMSE': 60.897261939721595, 'Time taken': 0.09669661521911621, 'custom_score': 54.65901171692218}\n"
     ]
    },
    {
     "name": "stderr",
     "output_type": "stream",
     "text": [
      " 43%|███████████████████████████████████▏                                              | 18/42 [02:01<02:37,  6.57s/it]"
     ]
    },
    {
     "name": "stdout",
     "output_type": "stream",
     "text": [
      "{'Model': 'LarsCV', 'R-Squared': 0.30296328041436615, 'Adjusted R-Squared': 0.2995226683814104, 'RMSE': 68.41060425243835, 'Time taken': 0.15918874740600586, 'custom_score': 50.89416880591174}\n",
      "{'Model': 'Lasso', 'R-Squared': 0.4394666884839502, 'Adjusted R-Squared': 0.43669986486865897, 'RMSE': 61.34742119462655, 'Time taken': 0.06376791000366211, 'custom_score': 54.784138077602584}\n"
     ]
    },
    {
     "name": "stderr",
     "output_type": "stream",
     "text": [
      " 48%|███████████████████████████████████████                                           | 20/42 [02:02<01:29,  4.08s/it]"
     ]
    },
    {
     "name": "stdout",
     "output_type": "stream",
     "text": [
      "{'Model': 'LassoCV', 'R-Squared': 0.30376927940703613, 'Adjusted R-Squared': 0.3003326458299562, 'RMSE': 68.37104046378535, 'Time taken': 0.2869124412536621, 'custom_score': 50.92167036272421}\n",
      "{'Model': 'LassoLars', 'R-Squared': 0.43947648388556027, 'Adjusted R-Squared': 0.4367097086209164, 'RMSE': 61.34688516470529, 'Time taken': 0.07386994361877441, 'custom_score': 54.784341665651795}\n"
     ]
    },
    {
     "name": "stderr",
     "output_type": "stream",
     "text": [
      " 57%|██████████████████████████████████████████████▊                                   | 24/42 [02:02<00:32,  1.79s/it]"
     ]
    },
    {
     "name": "stdout",
     "output_type": "stream",
     "text": [
      "{'Model': 'LassoLarsCV', 'R-Squared': 0.30296328041436615, 'Adjusted R-Squared': 0.2995226683814104, 'RMSE': 68.41060425243835, 'Time taken': 0.14096808433532715, 'custom_score': 50.89416880591174}\n",
      "{'Model': 'LassoLarsIC', 'R-Squared': 0.4474895575471177, 'Adjusted R-Squared': 0.44476233525993725, 'RMSE': 60.906808499007944, 'Time taken': 0.07486391067504883, 'custom_score': 54.681020680758515}\n",
      "{'Model': 'LinearRegression', 'R-Squared': 0.44764452312323755, 'Adjusted R-Squared': 0.44491806575476356, 'RMSE': 60.898266469889535, 'Time taken': 0.06250333786010742, 'custom_score': 54.65837227957589}\n"
     ]
    },
    {
     "name": "stderr",
     "output_type": "stream",
     "text": [
      " 60%|████████████████████████████████████████████████▊                                 | 25/42 [02:03<00:26,  1.57s/it]"
     ]
    },
    {
     "name": "stdout",
     "output_type": "stream",
     "text": [
      "{'Model': 'LinearSVR', 'R-Squared': 0.8996656077871303, 'Adjusted R-Squared': 0.8991703516442802, 'RMSE': 25.954968730255008, 'Time taken': 0.636981725692749, 'custom_score': 94.0749073801348}\n"
     ]
    },
    {
     "name": "stderr",
     "output_type": "stream",
     "text": [
      " 62%|██████████████████████████████████████████████████▊                               | 26/42 [02:11<00:48,  3.06s/it]"
     ]
    },
    {
     "name": "stdout",
     "output_type": "stream",
     "text": [
      "{'Model': 'MLPRegressor', 'R-Squared': 0.9117375972456764, 'Adjusted R-Squared': 0.911301929114513, 'RMSE': 24.343525311897046, 'Time taken': 8.448088884353638, 'custom_score': 90.31742424238776}\n"
     ]
    },
    {
     "name": "stderr",
     "output_type": "stream",
     "text": [
      " 69%|████████████████████████████████████████████████████████▌                         | 29/42 [02:31<00:55,  4.24s/it]"
     ]
    },
    {
     "name": "stdout",
     "output_type": "stream",
     "text": [
      "{'Model': 'NuSVR', 'R-Squared': 0.3929518643348946, 'Adjusted R-Squared': 0.38995544095938817, 'RMSE': 63.842099794155246, 'Time taken': 19.868345975875854, 'custom_score': 56.68676089587289}\n",
      "{'Model': 'OrthogonalMatchingPursuit', 'R-Squared': 0.2803458889130458, 'Adjusted R-Squared': 0.27679363617714425, 'RMSE': 69.51163491067113, 'Time taken': 0.06175684928894043, 'custom_score': 49.811849615520025}\n",
      "{'Model': 'OrthogonalMatchingPursuitCV', 'R-Squared': 0.3153838955851942, 'Adjusted R-Squared': 0.3120045923998396, 'RMSE': 67.7983544847375, 'Time taken': 0.10990524291992188, 'custom_score': 50.27860870500448}\n"
     ]
    },
    {
     "name": "stderr",
     "output_type": "stream",
     "text": [
      " 74%|████████████████████████████████████████████████████████████▌                     | 31/42 [02:31<00:27,  2.54s/it]"
     ]
    },
    {
     "name": "stdout",
     "output_type": "stream",
     "text": [
      "{'Model': 'PassiveAggressiveRegressor', 'R-Squared': 0.8959128077742762, 'Adjusted R-Squared': 0.8953990276017463, 'RMSE': 26.435908780634275, 'Time taken': 0.0914759635925293, 'custom_score': 92.10020732011733}\n",
      "{'Model': 'PoissonRegressor', 'R-Squared': 0.5688830649512957, 'Adjusted R-Squared': 0.566755047771338, 'RMSE': 53.80134580682711, 'Time taken': 0.10844898223876953, 'custom_score': 60.38892668420829}\n"
     ]
    },
    {
     "name": "stderr",
     "output_type": "stream",
     "text": [
      " 79%|████████████████████████████████████████████████████████████████▍                 | 33/42 [02:32<00:13,  1.53s/it]"
     ]
    },
    {
     "name": "stdout",
     "output_type": "stream",
     "text": [
      "{'Model': 'RANSACRegressor', 'R-Squared': 0.8989359349136942, 'Adjusted R-Squared': 0.8984370770649397, 'RMSE': 26.049175354968384, 'Time taken': 0.09908270835876465, 'custom_score': 94.16468967029027}\n"
     ]
    },
    {
     "name": "stderr",
     "output_type": "stream",
     "text": [
      " 86%|██████████████████████████████████████████████████████████████████████▎           | 36/42 [02:50<00:19,  3.25s/it]"
     ]
    },
    {
     "name": "stdout",
     "output_type": "stream",
     "text": [
      "{'Model': 'RandomForestRegressor', 'R-Squared': 0.8687319111252162, 'Adjusted R-Squared': 0.8680839645344051, 'RMSE': 29.68760609981041, 'Time taken': 18.147451162338257, 'custom_score': 83.73032142857143}\n",
      "{'Model': 'Ridge', 'R-Squared': 0.4476547876397039, 'Adjusted R-Squared': 0.44492838093745424, 'RMSE': 60.897700625800724, 'Time taken': 0.07256817817687988, 'custom_score': 54.65972809779468}\n",
      "{'Model': 'RidgeCV', 'R-Squared': 0.44758029764173846, 'Adjusted R-Squared': 0.4448535232527141, 'RMSE': 60.90180685915145, 'Time taken': 0.09621262550354004, 'custom_score': 54.665942870896316}\n",
      "{'Model': 'SGDRegressor', 'R-Squared': -18447712.20402667, 'Adjusted R-Squared': -18538771.14288433, 'RMSE': 351938.57157314755, 'Time taken': 0.07767128944396973, 'custom_score': 0}\n"
     ]
    },
    {
     "name": "stderr",
     "output_type": "stream",
     "text": [
      " 95%|██████████████████████████████████████████████████████████████████████████████    | 40/42 [03:11<00:07,  3.87s/it]"
     ]
    },
    {
     "name": "stdout",
     "output_type": "stream",
     "text": [
      "{'Model': 'SVR', 'R-Squared': 0.3974719728439913, 'Adjusted R-Squared': 0.39449786097559725, 'RMSE': 63.60397006999047, 'Time taken': 20.75261163711548, 'custom_score': 58.37172033898774}\n",
      "{'Model': 'TransformedTargetRegressor', 'R-Squared': 0.44764452312323755, 'Adjusted R-Squared': 0.44491806575476356, 'RMSE': 60.898266469889535, 'Time taken': 0.05128288269042969, 'custom_score': 54.65837227957589}\n",
      "{'Model': 'TweedieRegressor', 'R-Squared': 0.2684193754142298, 'Adjusted R-Squared': 0.2648082527440734, 'RMSE': 70.08526105655615, 'Time taken': 0.07860994338989258, 'custom_score': 49.6893681940888}\n",
      "{'Model': 'XGBRegressor', 'R-Squared': 0.8753825622514714, 'Adjusted R-Squared': 0.8747674436446804, 'RMSE': 28.925775194737742, 'Time taken': 0.23292326927185059, 'custom_score': 83.34382055274078}\n",
      "[LightGBM] [Info] Auto-choosing row-wise multi-threading, the overhead of testing was 0.000982 seconds.\n",
      "You can set `force_row_wise=true` to remove the overhead.\n",
      "And if memory is not enough, you can set `force_col_wise=true`.\n",
      "[LightGBM] [Info] Total Bins 1464\n",
      "[LightGBM] [Info] Number of data points in the train set: 17920, number of used features: 32\n",
      "[LightGBM] [Info] Start training from score 130.413951\n"
     ]
    },
    {
     "name": "stderr",
     "output_type": "stream",
     "text": [
      "100%|██████████████████████████████████████████████████████████████████████████████████| 42/42 [03:11<00:00,  4.57s/it]"
     ]
    },
    {
     "name": "stdout",
     "output_type": "stream",
     "text": [
      "{'Model': 'LGBMRegressor', 'R-Squared': 0.8854248483600298, 'Adjusted R-Squared': 0.8848592990362516, 'RMSE': 27.735807741764347, 'Time taken': 0.23987984657287598, 'custom_score': 83.31174156105413}\n"
     ]
    },
    {
     "name": "stderr",
     "output_type": "stream",
     "text": [
      "\n"
     ]
    }
   ],
   "source": [
    "from lazypredict.Supervised import LazyRegressor\n",
    "from sklearn.metrics import mean_absolute_error\n",
    "\n",
    "# Define custom scoring function\n",
    "def custom_score(actual, predicted):\n",
    "    score = max(0, 100 - mean_absolute_error(actual, predicted))\n",
    "    return score\n",
    "\n",
    "# Initialize LazyRegressor with custom scoring function\n",
    "reg = LazyRegressor(custom_metric=custom_score, verbose=1, ignore_warnings=True)\n",
    "\n",
    "# Assuming X_train, X_test, y_train, and y_test are already defined\n",
    "models, predictions = reg.fit(X_train, X_test, y_train, y_test)"
   ]
  },
  {
   "cell_type": "code",
   "execution_count": 266,
   "id": "8e2f21a8-4ac4-46b7-82d5-e67fc7202941",
   "metadata": {},
   "outputs": [
    {
     "data": {
      "text/html": [
       "<div>\n",
       "<style scoped>\n",
       "    .dataframe tbody tr th:only-of-type {\n",
       "        vertical-align: middle;\n",
       "    }\n",
       "\n",
       "    .dataframe tbody tr th {\n",
       "        vertical-align: top;\n",
       "    }\n",
       "\n",
       "    .dataframe thead th {\n",
       "        text-align: right;\n",
       "    }\n",
       "</style>\n",
       "<table border=\"1\" class=\"dataframe\">\n",
       "  <thead>\n",
       "    <tr style=\"text-align: right;\">\n",
       "      <th></th>\n",
       "      <th>Adjusted R-Squared</th>\n",
       "      <th>R-Squared</th>\n",
       "      <th>RMSE</th>\n",
       "      <th>Time Taken</th>\n",
       "      <th>custom_score</th>\n",
       "    </tr>\n",
       "    <tr>\n",
       "      <th>Model</th>\n",
       "      <th></th>\n",
       "      <th></th>\n",
       "      <th></th>\n",
       "      <th></th>\n",
       "      <th></th>\n",
       "    </tr>\n",
       "  </thead>\n",
       "  <tbody>\n",
       "    <tr>\n",
       "      <th>MLPRegressor</th>\n",
       "      <td>0.91</td>\n",
       "      <td>0.91</td>\n",
       "      <td>24.34</td>\n",
       "      <td>8.45</td>\n",
       "      <td>90.32</td>\n",
       "    </tr>\n",
       "    <tr>\n",
       "      <th>LinearSVR</th>\n",
       "      <td>0.90</td>\n",
       "      <td>0.90</td>\n",
       "      <td>25.95</td>\n",
       "      <td>0.64</td>\n",
       "      <td>94.07</td>\n",
       "    </tr>\n",
       "    <tr>\n",
       "      <th>HuberRegressor</th>\n",
       "      <td>0.90</td>\n",
       "      <td>0.90</td>\n",
       "      <td>26.00</td>\n",
       "      <td>0.37</td>\n",
       "      <td>94.17</td>\n",
       "    </tr>\n",
       "    <tr>\n",
       "      <th>RANSACRegressor</th>\n",
       "      <td>0.90</td>\n",
       "      <td>0.90</td>\n",
       "      <td>26.05</td>\n",
       "      <td>0.10</td>\n",
       "      <td>94.16</td>\n",
       "    </tr>\n",
       "    <tr>\n",
       "      <th>PassiveAggressiveRegressor</th>\n",
       "      <td>0.90</td>\n",
       "      <td>0.90</td>\n",
       "      <td>26.44</td>\n",
       "      <td>0.09</td>\n",
       "      <td>92.10</td>\n",
       "    </tr>\n",
       "    <tr>\n",
       "      <th>HistGradientBoostingRegressor</th>\n",
       "      <td>0.89</td>\n",
       "      <td>0.89</td>\n",
       "      <td>27.59</td>\n",
       "      <td>1.09</td>\n",
       "      <td>83.45</td>\n",
       "    </tr>\n",
       "    <tr>\n",
       "      <th>LGBMRegressor</th>\n",
       "      <td>0.88</td>\n",
       "      <td>0.89</td>\n",
       "      <td>27.74</td>\n",
       "      <td>0.24</td>\n",
       "      <td>83.31</td>\n",
       "    </tr>\n",
       "    <tr>\n",
       "      <th>XGBRegressor</th>\n",
       "      <td>0.87</td>\n",
       "      <td>0.88</td>\n",
       "      <td>28.93</td>\n",
       "      <td>0.23</td>\n",
       "      <td>83.34</td>\n",
       "    </tr>\n",
       "    <tr>\n",
       "      <th>RandomForestRegressor</th>\n",
       "      <td>0.87</td>\n",
       "      <td>0.87</td>\n",
       "      <td>29.69</td>\n",
       "      <td>18.15</td>\n",
       "      <td>83.73</td>\n",
       "    </tr>\n",
       "    <tr>\n",
       "      <th>BaggingRegressor</th>\n",
       "      <td>0.85</td>\n",
       "      <td>0.85</td>\n",
       "      <td>32.09</td>\n",
       "      <td>1.88</td>\n",
       "      <td>81.51</td>\n",
       "    </tr>\n",
       "    <tr>\n",
       "      <th>GradientBoostingRegressor</th>\n",
       "      <td>0.82</td>\n",
       "      <td>0.82</td>\n",
       "      <td>35.00</td>\n",
       "      <td>4.08</td>\n",
       "      <td>76.51</td>\n",
       "    </tr>\n",
       "    <tr>\n",
       "      <th>ExtraTreesRegressor</th>\n",
       "      <td>0.71</td>\n",
       "      <td>0.71</td>\n",
       "      <td>44.16</td>\n",
       "      <td>10.62</td>\n",
       "      <td>68.96</td>\n",
       "    </tr>\n",
       "    <tr>\n",
       "      <th>DecisionTreeRegressor</th>\n",
       "      <td>0.68</td>\n",
       "      <td>0.68</td>\n",
       "      <td>45.99</td>\n",
       "      <td>0.31</td>\n",
       "      <td>73.26</td>\n",
       "    </tr>\n",
       "    <tr>\n",
       "      <th>PoissonRegressor</th>\n",
       "      <td>0.57</td>\n",
       "      <td>0.57</td>\n",
       "      <td>53.80</td>\n",
       "      <td>0.11</td>\n",
       "      <td>60.39</td>\n",
       "    </tr>\n",
       "    <tr>\n",
       "      <th>Lars</th>\n",
       "      <td>0.44</td>\n",
       "      <td>0.45</td>\n",
       "      <td>60.90</td>\n",
       "      <td>0.10</td>\n",
       "      <td>54.66</td>\n",
       "    </tr>\n",
       "    <tr>\n",
       "      <th>KernelRidge</th>\n",
       "      <td>0.44</td>\n",
       "      <td>0.45</td>\n",
       "      <td>60.90</td>\n",
       "      <td>26.15</td>\n",
       "      <td>54.66</td>\n",
       "    </tr>\n",
       "    <tr>\n",
       "      <th>Ridge</th>\n",
       "      <td>0.44</td>\n",
       "      <td>0.45</td>\n",
       "      <td>60.90</td>\n",
       "      <td>0.07</td>\n",
       "      <td>54.66</td>\n",
       "    </tr>\n",
       "    <tr>\n",
       "      <th>TransformedTargetRegressor</th>\n",
       "      <td>0.44</td>\n",
       "      <td>0.45</td>\n",
       "      <td>60.90</td>\n",
       "      <td>0.05</td>\n",
       "      <td>54.66</td>\n",
       "    </tr>\n",
       "    <tr>\n",
       "      <th>LinearRegression</th>\n",
       "      <td>0.44</td>\n",
       "      <td>0.45</td>\n",
       "      <td>60.90</td>\n",
       "      <td>0.06</td>\n",
       "      <td>54.66</td>\n",
       "    </tr>\n",
       "    <tr>\n",
       "      <th>RidgeCV</th>\n",
       "      <td>0.44</td>\n",
       "      <td>0.45</td>\n",
       "      <td>60.90</td>\n",
       "      <td>0.10</td>\n",
       "      <td>54.67</td>\n",
       "    </tr>\n",
       "    <tr>\n",
       "      <th>BayesianRidge</th>\n",
       "      <td>0.44</td>\n",
       "      <td>0.45</td>\n",
       "      <td>60.90</td>\n",
       "      <td>0.08</td>\n",
       "      <td>54.67</td>\n",
       "    </tr>\n",
       "    <tr>\n",
       "      <th>LassoLarsIC</th>\n",
       "      <td>0.44</td>\n",
       "      <td>0.45</td>\n",
       "      <td>60.91</td>\n",
       "      <td>0.07</td>\n",
       "      <td>54.68</td>\n",
       "    </tr>\n",
       "    <tr>\n",
       "      <th>LassoLars</th>\n",
       "      <td>0.44</td>\n",
       "      <td>0.44</td>\n",
       "      <td>61.35</td>\n",
       "      <td>0.07</td>\n",
       "      <td>54.78</td>\n",
       "    </tr>\n",
       "    <tr>\n",
       "      <th>Lasso</th>\n",
       "      <td>0.44</td>\n",
       "      <td>0.44</td>\n",
       "      <td>61.35</td>\n",
       "      <td>0.06</td>\n",
       "      <td>54.78</td>\n",
       "    </tr>\n",
       "    <tr>\n",
       "      <th>SVR</th>\n",
       "      <td>0.39</td>\n",
       "      <td>0.40</td>\n",
       "      <td>63.60</td>\n",
       "      <td>20.75</td>\n",
       "      <td>58.37</td>\n",
       "    </tr>\n",
       "    <tr>\n",
       "      <th>NuSVR</th>\n",
       "      <td>0.39</td>\n",
       "      <td>0.39</td>\n",
       "      <td>63.84</td>\n",
       "      <td>19.87</td>\n",
       "      <td>56.69</td>\n",
       "    </tr>\n",
       "    <tr>\n",
       "      <th>ElasticNetCV</th>\n",
       "      <td>0.32</td>\n",
       "      <td>0.32</td>\n",
       "      <td>67.33</td>\n",
       "      <td>0.28</td>\n",
       "      <td>51.70</td>\n",
       "    </tr>\n",
       "    <tr>\n",
       "      <th>ElasticNet</th>\n",
       "      <td>0.31</td>\n",
       "      <td>0.32</td>\n",
       "      <td>67.75</td>\n",
       "      <td>0.06</td>\n",
       "      <td>51.41</td>\n",
       "    </tr>\n",
       "    <tr>\n",
       "      <th>OrthogonalMatchingPursuitCV</th>\n",
       "      <td>0.31</td>\n",
       "      <td>0.32</td>\n",
       "      <td>67.80</td>\n",
       "      <td>0.11</td>\n",
       "      <td>50.28</td>\n",
       "    </tr>\n",
       "    <tr>\n",
       "      <th>KNeighborsRegressor</th>\n",
       "      <td>0.30</td>\n",
       "      <td>0.31</td>\n",
       "      <td>68.27</td>\n",
       "      <td>0.27</td>\n",
       "      <td>51.78</td>\n",
       "    </tr>\n",
       "    <tr>\n",
       "      <th>LassoCV</th>\n",
       "      <td>0.30</td>\n",
       "      <td>0.30</td>\n",
       "      <td>68.37</td>\n",
       "      <td>0.29</td>\n",
       "      <td>50.92</td>\n",
       "    </tr>\n",
       "    <tr>\n",
       "      <th>LassoLarsCV</th>\n",
       "      <td>0.30</td>\n",
       "      <td>0.30</td>\n",
       "      <td>68.41</td>\n",
       "      <td>0.14</td>\n",
       "      <td>50.89</td>\n",
       "    </tr>\n",
       "    <tr>\n",
       "      <th>LarsCV</th>\n",
       "      <td>0.30</td>\n",
       "      <td>0.30</td>\n",
       "      <td>68.41</td>\n",
       "      <td>0.16</td>\n",
       "      <td>50.89</td>\n",
       "    </tr>\n",
       "    <tr>\n",
       "      <th>OrthogonalMatchingPursuit</th>\n",
       "      <td>0.28</td>\n",
       "      <td>0.28</td>\n",
       "      <td>69.51</td>\n",
       "      <td>0.06</td>\n",
       "      <td>49.81</td>\n",
       "    </tr>\n",
       "    <tr>\n",
       "      <th>TweedieRegressor</th>\n",
       "      <td>0.26</td>\n",
       "      <td>0.27</td>\n",
       "      <td>70.09</td>\n",
       "      <td>0.08</td>\n",
       "      <td>49.69</td>\n",
       "    </tr>\n",
       "    <tr>\n",
       "      <th>GammaRegressor</th>\n",
       "      <td>0.25</td>\n",
       "      <td>0.26</td>\n",
       "      <td>70.64</td>\n",
       "      <td>0.07</td>\n",
       "      <td>50.34</td>\n",
       "    </tr>\n",
       "    <tr>\n",
       "      <th>ExtraTreeRegressor</th>\n",
       "      <td>0.16</td>\n",
       "      <td>0.16</td>\n",
       "      <td>75.11</td>\n",
       "      <td>0.19</td>\n",
       "      <td>49.31</td>\n",
       "    </tr>\n",
       "    <tr>\n",
       "      <th>DummyRegressor</th>\n",
       "      <td>-0.01</td>\n",
       "      <td>-0.00</td>\n",
       "      <td>81.95</td>\n",
       "      <td>0.06</td>\n",
       "      <td>40.08</td>\n",
       "    </tr>\n",
       "    <tr>\n",
       "      <th>AdaBoostRegressor</th>\n",
       "      <td>-0.06</td>\n",
       "      <td>-0.05</td>\n",
       "      <td>84.05</td>\n",
       "      <td>2.21</td>\n",
       "      <td>26.20</td>\n",
       "    </tr>\n",
       "    <tr>\n",
       "      <th>GaussianProcessRegressor</th>\n",
       "      <td>-0.07</td>\n",
       "      <td>-0.06</td>\n",
       "      <td>84.45</td>\n",
       "      <td>73.91</td>\n",
       "      <td>48.31</td>\n",
       "    </tr>\n",
       "    <tr>\n",
       "      <th>SGDRegressor</th>\n",
       "      <td>-18538771.14</td>\n",
       "      <td>-18447712.20</td>\n",
       "      <td>351938.57</td>\n",
       "      <td>0.08</td>\n",
       "      <td>0.00</td>\n",
       "    </tr>\n",
       "  </tbody>\n",
       "</table>\n",
       "</div>"
      ],
      "text/plain": [
       "                               Adjusted R-Squared    R-Squared      RMSE  \\\n",
       "Model                                                                      \n",
       "MLPRegressor                                 0.91         0.91     24.34   \n",
       "LinearSVR                                    0.90         0.90     25.95   \n",
       "HuberRegressor                               0.90         0.90     26.00   \n",
       "RANSACRegressor                              0.90         0.90     26.05   \n",
       "PassiveAggressiveRegressor                   0.90         0.90     26.44   \n",
       "HistGradientBoostingRegressor                0.89         0.89     27.59   \n",
       "LGBMRegressor                                0.88         0.89     27.74   \n",
       "XGBRegressor                                 0.87         0.88     28.93   \n",
       "RandomForestRegressor                        0.87         0.87     29.69   \n",
       "BaggingRegressor                             0.85         0.85     32.09   \n",
       "GradientBoostingRegressor                    0.82         0.82     35.00   \n",
       "ExtraTreesRegressor                          0.71         0.71     44.16   \n",
       "DecisionTreeRegressor                        0.68         0.68     45.99   \n",
       "PoissonRegressor                             0.57         0.57     53.80   \n",
       "Lars                                         0.44         0.45     60.90   \n",
       "KernelRidge                                  0.44         0.45     60.90   \n",
       "Ridge                                        0.44         0.45     60.90   \n",
       "TransformedTargetRegressor                   0.44         0.45     60.90   \n",
       "LinearRegression                             0.44         0.45     60.90   \n",
       "RidgeCV                                      0.44         0.45     60.90   \n",
       "BayesianRidge                                0.44         0.45     60.90   \n",
       "LassoLarsIC                                  0.44         0.45     60.91   \n",
       "LassoLars                                    0.44         0.44     61.35   \n",
       "Lasso                                        0.44         0.44     61.35   \n",
       "SVR                                          0.39         0.40     63.60   \n",
       "NuSVR                                        0.39         0.39     63.84   \n",
       "ElasticNetCV                                 0.32         0.32     67.33   \n",
       "ElasticNet                                   0.31         0.32     67.75   \n",
       "OrthogonalMatchingPursuitCV                  0.31         0.32     67.80   \n",
       "KNeighborsRegressor                          0.30         0.31     68.27   \n",
       "LassoCV                                      0.30         0.30     68.37   \n",
       "LassoLarsCV                                  0.30         0.30     68.41   \n",
       "LarsCV                                       0.30         0.30     68.41   \n",
       "OrthogonalMatchingPursuit                    0.28         0.28     69.51   \n",
       "TweedieRegressor                             0.26         0.27     70.09   \n",
       "GammaRegressor                               0.25         0.26     70.64   \n",
       "ExtraTreeRegressor                           0.16         0.16     75.11   \n",
       "DummyRegressor                              -0.01        -0.00     81.95   \n",
       "AdaBoostRegressor                           -0.06        -0.05     84.05   \n",
       "GaussianProcessRegressor                    -0.07        -0.06     84.45   \n",
       "SGDRegressor                         -18538771.14 -18447712.20 351938.57   \n",
       "\n",
       "                               Time Taken  custom_score  \n",
       "Model                                                    \n",
       "MLPRegressor                         8.45         90.32  \n",
       "LinearSVR                            0.64         94.07  \n",
       "HuberRegressor                       0.37         94.17  \n",
       "RANSACRegressor                      0.10         94.16  \n",
       "PassiveAggressiveRegressor           0.09         92.10  \n",
       "HistGradientBoostingRegressor        1.09         83.45  \n",
       "LGBMRegressor                        0.24         83.31  \n",
       "XGBRegressor                         0.23         83.34  \n",
       "RandomForestRegressor               18.15         83.73  \n",
       "BaggingRegressor                     1.88         81.51  \n",
       "GradientBoostingRegressor            4.08         76.51  \n",
       "ExtraTreesRegressor                 10.62         68.96  \n",
       "DecisionTreeRegressor                0.31         73.26  \n",
       "PoissonRegressor                     0.11         60.39  \n",
       "Lars                                 0.10         54.66  \n",
       "KernelRidge                         26.15         54.66  \n",
       "Ridge                                0.07         54.66  \n",
       "TransformedTargetRegressor           0.05         54.66  \n",
       "LinearRegression                     0.06         54.66  \n",
       "RidgeCV                              0.10         54.67  \n",
       "BayesianRidge                        0.08         54.67  \n",
       "LassoLarsIC                          0.07         54.68  \n",
       "LassoLars                            0.07         54.78  \n",
       "Lasso                                0.06         54.78  \n",
       "SVR                                 20.75         58.37  \n",
       "NuSVR                               19.87         56.69  \n",
       "ElasticNetCV                         0.28         51.70  \n",
       "ElasticNet                           0.06         51.41  \n",
       "OrthogonalMatchingPursuitCV          0.11         50.28  \n",
       "KNeighborsRegressor                  0.27         51.78  \n",
       "LassoCV                              0.29         50.92  \n",
       "LassoLarsCV                          0.14         50.89  \n",
       "LarsCV                               0.16         50.89  \n",
       "OrthogonalMatchingPursuit            0.06         49.81  \n",
       "TweedieRegressor                     0.08         49.69  \n",
       "GammaRegressor                       0.07         50.34  \n",
       "ExtraTreeRegressor                   0.19         49.31  \n",
       "DummyRegressor                       0.06         40.08  \n",
       "AdaBoostRegressor                    2.21         26.20  \n",
       "GaussianProcessRegressor            73.91         48.31  \n",
       "SGDRegressor                         0.08          0.00  "
      ]
     },
     "execution_count": 266,
     "metadata": {},
     "output_type": "execute_result"
    }
   ],
   "source": [
    "models"
   ]
  },
  {
   "cell_type": "code",
   "execution_count": 267,
   "id": "6381813f-2819-437a-8178-35744c0c1e7c",
   "metadata": {},
   "outputs": [
    {
     "data": {
      "text/html": [
       "<style>#sk-container-id-10 {color: black;background-color: white;}#sk-container-id-10 pre{padding: 0;}#sk-container-id-10 div.sk-toggleable {background-color: white;}#sk-container-id-10 label.sk-toggleable__label {cursor: pointer;display: block;width: 100%;margin-bottom: 0;padding: 0.3em;box-sizing: border-box;text-align: center;}#sk-container-id-10 label.sk-toggleable__label-arrow:before {content: \"▸\";float: left;margin-right: 0.25em;color: #696969;}#sk-container-id-10 label.sk-toggleable__label-arrow:hover:before {color: black;}#sk-container-id-10 div.sk-estimator:hover label.sk-toggleable__label-arrow:before {color: black;}#sk-container-id-10 div.sk-toggleable__content {max-height: 0;max-width: 0;overflow: hidden;text-align: left;background-color: #f0f8ff;}#sk-container-id-10 div.sk-toggleable__content pre {margin: 0.2em;color: black;border-radius: 0.25em;background-color: #f0f8ff;}#sk-container-id-10 input.sk-toggleable__control:checked~div.sk-toggleable__content {max-height: 200px;max-width: 100%;overflow: auto;}#sk-container-id-10 input.sk-toggleable__control:checked~label.sk-toggleable__label-arrow:before {content: \"▾\";}#sk-container-id-10 div.sk-estimator input.sk-toggleable__control:checked~label.sk-toggleable__label {background-color: #d4ebff;}#sk-container-id-10 div.sk-label input.sk-toggleable__control:checked~label.sk-toggleable__label {background-color: #d4ebff;}#sk-container-id-10 input.sk-hidden--visually {border: 0;clip: rect(1px 1px 1px 1px);clip: rect(1px, 1px, 1px, 1px);height: 1px;margin: -1px;overflow: hidden;padding: 0;position: absolute;width: 1px;}#sk-container-id-10 div.sk-estimator {font-family: monospace;background-color: #f0f8ff;border: 1px dotted black;border-radius: 0.25em;box-sizing: border-box;margin-bottom: 0.5em;}#sk-container-id-10 div.sk-estimator:hover {background-color: #d4ebff;}#sk-container-id-10 div.sk-parallel-item::after {content: \"\";width: 100%;border-bottom: 1px solid gray;flex-grow: 1;}#sk-container-id-10 div.sk-label:hover label.sk-toggleable__label {background-color: #d4ebff;}#sk-container-id-10 div.sk-serial::before {content: \"\";position: absolute;border-left: 1px solid gray;box-sizing: border-box;top: 0;bottom: 0;left: 50%;z-index: 0;}#sk-container-id-10 div.sk-serial {display: flex;flex-direction: column;align-items: center;background-color: white;padding-right: 0.2em;padding-left: 0.2em;position: relative;}#sk-container-id-10 div.sk-item {position: relative;z-index: 1;}#sk-container-id-10 div.sk-parallel {display: flex;align-items: stretch;justify-content: center;background-color: white;position: relative;}#sk-container-id-10 div.sk-item::before, #sk-container-id-10 div.sk-parallel-item::before {content: \"\";position: absolute;border-left: 1px solid gray;box-sizing: border-box;top: 0;bottom: 0;left: 50%;z-index: -1;}#sk-container-id-10 div.sk-parallel-item {display: flex;flex-direction: column;z-index: 1;position: relative;background-color: white;}#sk-container-id-10 div.sk-parallel-item:first-child::after {align-self: flex-end;width: 50%;}#sk-container-id-10 div.sk-parallel-item:last-child::after {align-self: flex-start;width: 50%;}#sk-container-id-10 div.sk-parallel-item:only-child::after {width: 0;}#sk-container-id-10 div.sk-dashed-wrapped {border: 1px dashed gray;margin: 0 0.4em 0.5em 0.4em;box-sizing: border-box;padding-bottom: 0.4em;background-color: white;}#sk-container-id-10 div.sk-label label {font-family: monospace;font-weight: bold;display: inline-block;line-height: 1.2em;}#sk-container-id-10 div.sk-label-container {text-align: center;}#sk-container-id-10 div.sk-container {/* jupyter's `normalize.less` sets `[hidden] { display: none; }` but bootstrap.min.css set `[hidden] { display: none !important; }` so we also need the `!important` here to be able to override the default hidden behavior on the sphinx rendered scikit-learn.org. See: https://github.com/scikit-learn/scikit-learn/issues/21755 */display: inline-block !important;position: relative;}#sk-container-id-10 div.sk-text-repr-fallback {display: none;}</style><div id=\"sk-container-id-10\" class=\"sk-top-container\"><div class=\"sk-text-repr-fallback\"><pre>Pipeline(steps=[(&#x27;preprocessor&#x27;,\n",
       "                 ColumnTransformer(transformers=[(&#x27;num&#x27;,\n",
       "                                                  Pipeline(steps=[(&#x27;imputer&#x27;,\n",
       "                                                                   SimpleImputer()),\n",
       "                                                                  (&#x27;scaler&#x27;,\n",
       "                                                                   StandardScaler())]),\n",
       "                                                  [&#x27;age&#x27;, &#x27;height_in_cm&#x27;,\n",
       "                                                   &#x27;weight_in_lbs&#x27;,\n",
       "                                                   &#x27;left_eyesight_lvl&#x27;,\n",
       "                                                   &#x27;right_eyesight_lvl&#x27;,\n",
       "                                                   &#x27;blood_pressure_lvl1&#x27;,\n",
       "                                                   &#x27;blood_pressure_lvl2&#x27;,\n",
       "                                                   &#x27;glucose_lvl&#x27;,\n",
       "                                                   &#x27;total_cholestrol&#x27;,\n",
       "                                                   &#x27;good_cholestrol_lvl&#x27;,\n",
       "                                                   &#x27;bad_cholestrol_lvl&#x27;,\n",
       "                                                   &#x27;hemoglobin_lvl&#x27;, &#x27;urea_lvl&#x27;,\n",
       "                                                   &#x27;creatinine_lvl&#x27;,\n",
       "                                                   &#x27;liver_enzyme_lvl1&#x27;,\n",
       "                                                   &#x27;liver_enzyme_lvl2&#x27;]),\n",
       "                                                 (&#x27;cat&#x27;,\n",
       "                                                  Pipeline(steps=[(&#x27;imputer&#x27;,\n",
       "                                                                   SimpleImputer(strategy=&#x27;most_frequent&#x27;)),\n",
       "                                                                  (&#x27;onehot&#x27;,\n",
       "                                                                   OneHotEncoder(handle_unknown=&#x27;ignore&#x27;))]),\n",
       "                                                  [&#x27;gender&#x27;,\n",
       "                                                   &#x27;can_hear_left_ear&#x27;,\n",
       "                                                   &#x27;can_hear_right_ear&#x27;,\n",
       "                                                   &#x27;smoking_habit&#x27;,\n",
       "                                                   &#x27;drinking_habit&#x27;,\n",
       "                                                   &#x27;residential_area&#x27;])])),\n",
       "                (&#x27;model&#x27;, HuberRegressor())])</pre><b>In a Jupyter environment, please rerun this cell to show the HTML representation or trust the notebook. <br />On GitHub, the HTML representation is unable to render, please try loading this page with nbviewer.org.</b></div><div class=\"sk-container\" hidden><div class=\"sk-item sk-dashed-wrapped\"><div class=\"sk-label-container\"><div class=\"sk-label sk-toggleable\"><input class=\"sk-toggleable__control sk-hidden--visually\" id=\"sk-estimator-id-56\" type=\"checkbox\" ><label for=\"sk-estimator-id-56\" class=\"sk-toggleable__label sk-toggleable__label-arrow\">Pipeline</label><div class=\"sk-toggleable__content\"><pre>Pipeline(steps=[(&#x27;preprocessor&#x27;,\n",
       "                 ColumnTransformer(transformers=[(&#x27;num&#x27;,\n",
       "                                                  Pipeline(steps=[(&#x27;imputer&#x27;,\n",
       "                                                                   SimpleImputer()),\n",
       "                                                                  (&#x27;scaler&#x27;,\n",
       "                                                                   StandardScaler())]),\n",
       "                                                  [&#x27;age&#x27;, &#x27;height_in_cm&#x27;,\n",
       "                                                   &#x27;weight_in_lbs&#x27;,\n",
       "                                                   &#x27;left_eyesight_lvl&#x27;,\n",
       "                                                   &#x27;right_eyesight_lvl&#x27;,\n",
       "                                                   &#x27;blood_pressure_lvl1&#x27;,\n",
       "                                                   &#x27;blood_pressure_lvl2&#x27;,\n",
       "                                                   &#x27;glucose_lvl&#x27;,\n",
       "                                                   &#x27;total_cholestrol&#x27;,\n",
       "                                                   &#x27;good_cholestrol_lvl&#x27;,\n",
       "                                                   &#x27;bad_cholestrol_lvl&#x27;,\n",
       "                                                   &#x27;hemoglobin_lvl&#x27;, &#x27;urea_lvl&#x27;,\n",
       "                                                   &#x27;creatinine_lvl&#x27;,\n",
       "                                                   &#x27;liver_enzyme_lvl1&#x27;,\n",
       "                                                   &#x27;liver_enzyme_lvl2&#x27;]),\n",
       "                                                 (&#x27;cat&#x27;,\n",
       "                                                  Pipeline(steps=[(&#x27;imputer&#x27;,\n",
       "                                                                   SimpleImputer(strategy=&#x27;most_frequent&#x27;)),\n",
       "                                                                  (&#x27;onehot&#x27;,\n",
       "                                                                   OneHotEncoder(handle_unknown=&#x27;ignore&#x27;))]),\n",
       "                                                  [&#x27;gender&#x27;,\n",
       "                                                   &#x27;can_hear_left_ear&#x27;,\n",
       "                                                   &#x27;can_hear_right_ear&#x27;,\n",
       "                                                   &#x27;smoking_habit&#x27;,\n",
       "                                                   &#x27;drinking_habit&#x27;,\n",
       "                                                   &#x27;residential_area&#x27;])])),\n",
       "                (&#x27;model&#x27;, HuberRegressor())])</pre></div></div></div><div class=\"sk-serial\"><div class=\"sk-item sk-dashed-wrapped\"><div class=\"sk-label-container\"><div class=\"sk-label sk-toggleable\"><input class=\"sk-toggleable__control sk-hidden--visually\" id=\"sk-estimator-id-57\" type=\"checkbox\" ><label for=\"sk-estimator-id-57\" class=\"sk-toggleable__label sk-toggleable__label-arrow\">preprocessor: ColumnTransformer</label><div class=\"sk-toggleable__content\"><pre>ColumnTransformer(transformers=[(&#x27;num&#x27;,\n",
       "                                 Pipeline(steps=[(&#x27;imputer&#x27;, SimpleImputer()),\n",
       "                                                 (&#x27;scaler&#x27;, StandardScaler())]),\n",
       "                                 [&#x27;age&#x27;, &#x27;height_in_cm&#x27;, &#x27;weight_in_lbs&#x27;,\n",
       "                                  &#x27;left_eyesight_lvl&#x27;, &#x27;right_eyesight_lvl&#x27;,\n",
       "                                  &#x27;blood_pressure_lvl1&#x27;, &#x27;blood_pressure_lvl2&#x27;,\n",
       "                                  &#x27;glucose_lvl&#x27;, &#x27;total_cholestrol&#x27;,\n",
       "                                  &#x27;good_cholestrol_lvl&#x27;, &#x27;bad_cholestrol_lvl&#x27;,\n",
       "                                  &#x27;hemoglobin_lvl&#x27;, &#x27;urea_lvl&#x27;,\n",
       "                                  &#x27;creatinine_lvl&#x27;, &#x27;liver_enzyme_lvl1&#x27;,\n",
       "                                  &#x27;liver_enzyme_lvl2&#x27;]),\n",
       "                                (&#x27;cat&#x27;,\n",
       "                                 Pipeline(steps=[(&#x27;imputer&#x27;,\n",
       "                                                  SimpleImputer(strategy=&#x27;most_frequent&#x27;)),\n",
       "                                                 (&#x27;onehot&#x27;,\n",
       "                                                  OneHotEncoder(handle_unknown=&#x27;ignore&#x27;))]),\n",
       "                                 [&#x27;gender&#x27;, &#x27;can_hear_left_ear&#x27;,\n",
       "                                  &#x27;can_hear_right_ear&#x27;, &#x27;smoking_habit&#x27;,\n",
       "                                  &#x27;drinking_habit&#x27;, &#x27;residential_area&#x27;])])</pre></div></div></div><div class=\"sk-parallel\"><div class=\"sk-parallel-item\"><div class=\"sk-item\"><div class=\"sk-label-container\"><div class=\"sk-label sk-toggleable\"><input class=\"sk-toggleable__control sk-hidden--visually\" id=\"sk-estimator-id-58\" type=\"checkbox\" ><label for=\"sk-estimator-id-58\" class=\"sk-toggleable__label sk-toggleable__label-arrow\">num</label><div class=\"sk-toggleable__content\"><pre>[&#x27;age&#x27;, &#x27;height_in_cm&#x27;, &#x27;weight_in_lbs&#x27;, &#x27;left_eyesight_lvl&#x27;, &#x27;right_eyesight_lvl&#x27;, &#x27;blood_pressure_lvl1&#x27;, &#x27;blood_pressure_lvl2&#x27;, &#x27;glucose_lvl&#x27;, &#x27;total_cholestrol&#x27;, &#x27;good_cholestrol_lvl&#x27;, &#x27;bad_cholestrol_lvl&#x27;, &#x27;hemoglobin_lvl&#x27;, &#x27;urea_lvl&#x27;, &#x27;creatinine_lvl&#x27;, &#x27;liver_enzyme_lvl1&#x27;, &#x27;liver_enzyme_lvl2&#x27;]</pre></div></div></div><div class=\"sk-serial\"><div class=\"sk-item\"><div class=\"sk-serial\"><div class=\"sk-item\"><div class=\"sk-estimator sk-toggleable\"><input class=\"sk-toggleable__control sk-hidden--visually\" id=\"sk-estimator-id-59\" type=\"checkbox\" ><label for=\"sk-estimator-id-59\" class=\"sk-toggleable__label sk-toggleable__label-arrow\">SimpleImputer</label><div class=\"sk-toggleable__content\"><pre>SimpleImputer()</pre></div></div></div><div class=\"sk-item\"><div class=\"sk-estimator sk-toggleable\"><input class=\"sk-toggleable__control sk-hidden--visually\" id=\"sk-estimator-id-60\" type=\"checkbox\" ><label for=\"sk-estimator-id-60\" class=\"sk-toggleable__label sk-toggleable__label-arrow\">StandardScaler</label><div class=\"sk-toggleable__content\"><pre>StandardScaler()</pre></div></div></div></div></div></div></div></div><div class=\"sk-parallel-item\"><div class=\"sk-item\"><div class=\"sk-label-container\"><div class=\"sk-label sk-toggleable\"><input class=\"sk-toggleable__control sk-hidden--visually\" id=\"sk-estimator-id-61\" type=\"checkbox\" ><label for=\"sk-estimator-id-61\" class=\"sk-toggleable__label sk-toggleable__label-arrow\">cat</label><div class=\"sk-toggleable__content\"><pre>[&#x27;gender&#x27;, &#x27;can_hear_left_ear&#x27;, &#x27;can_hear_right_ear&#x27;, &#x27;smoking_habit&#x27;, &#x27;drinking_habit&#x27;, &#x27;residential_area&#x27;]</pre></div></div></div><div class=\"sk-serial\"><div class=\"sk-item\"><div class=\"sk-serial\"><div class=\"sk-item\"><div class=\"sk-estimator sk-toggleable\"><input class=\"sk-toggleable__control sk-hidden--visually\" id=\"sk-estimator-id-62\" type=\"checkbox\" ><label for=\"sk-estimator-id-62\" class=\"sk-toggleable__label sk-toggleable__label-arrow\">SimpleImputer</label><div class=\"sk-toggleable__content\"><pre>SimpleImputer(strategy=&#x27;most_frequent&#x27;)</pre></div></div></div><div class=\"sk-item\"><div class=\"sk-estimator sk-toggleable\"><input class=\"sk-toggleable__control sk-hidden--visually\" id=\"sk-estimator-id-63\" type=\"checkbox\" ><label for=\"sk-estimator-id-63\" class=\"sk-toggleable__label sk-toggleable__label-arrow\">OneHotEncoder</label><div class=\"sk-toggleable__content\"><pre>OneHotEncoder(handle_unknown=&#x27;ignore&#x27;)</pre></div></div></div></div></div></div></div></div></div></div><div class=\"sk-item\"><div class=\"sk-estimator sk-toggleable\"><input class=\"sk-toggleable__control sk-hidden--visually\" id=\"sk-estimator-id-64\" type=\"checkbox\" ><label for=\"sk-estimator-id-64\" class=\"sk-toggleable__label sk-toggleable__label-arrow\">HuberRegressor</label><div class=\"sk-toggleable__content\"><pre>HuberRegressor()</pre></div></div></div></div></div></div></div>"
      ],
      "text/plain": [
       "Pipeline(steps=[('preprocessor',\n",
       "                 ColumnTransformer(transformers=[('num',\n",
       "                                                  Pipeline(steps=[('imputer',\n",
       "                                                                   SimpleImputer()),\n",
       "                                                                  ('scaler',\n",
       "                                                                   StandardScaler())]),\n",
       "                                                  ['age', 'height_in_cm',\n",
       "                                                   'weight_in_lbs',\n",
       "                                                   'left_eyesight_lvl',\n",
       "                                                   'right_eyesight_lvl',\n",
       "                                                   'blood_pressure_lvl1',\n",
       "                                                   'blood_pressure_lvl2',\n",
       "                                                   'glucose_lvl',\n",
       "                                                   'total_cholestrol',\n",
       "                                                   'good_cholestrol_lvl',\n",
       "                                                   'bad_cholestrol_lvl',\n",
       "                                                   'hemoglobin_lvl', 'urea_lvl',\n",
       "                                                   'creatinine_lvl',\n",
       "                                                   'liver_enzyme_lvl1',\n",
       "                                                   'liver_enzyme_lvl2']),\n",
       "                                                 ('cat',\n",
       "                                                  Pipeline(steps=[('imputer',\n",
       "                                                                   SimpleImputer(strategy='most_frequent')),\n",
       "                                                                  ('onehot',\n",
       "                                                                   OneHotEncoder(handle_unknown='ignore'))]),\n",
       "                                                  ['gender',\n",
       "                                                   'can_hear_left_ear',\n",
       "                                                   'can_hear_right_ear',\n",
       "                                                   'smoking_habit',\n",
       "                                                   'drinking_habit',\n",
       "                                                   'residential_area'])])),\n",
       "                ('model', HuberRegressor())])"
      ]
     },
     "execution_count": 267,
     "metadata": {},
     "output_type": "execute_result"
    }
   ],
   "source": [
    "my_pipeline = Pipeline(steps=[('preprocessor', preprocessor),\n",
    "                              ('model', model)\n",
    "                             ])\n",
    "\n",
    "# Preprocessing of training data, fit model\n",
    "\n",
    "my_pipeline.fit(X_train,y_train)\n",
    "\n"
   ]
  },
  {
   "cell_type": "code",
   "execution_count": 268,
   "id": "035d2c23-4a0a-422b-9eb9-814422b8ea99",
   "metadata": {},
   "outputs": [
    {
     "name": "stdout",
     "output_type": "stream",
     "text": [
      "Score: 94.16838075193867\n"
     ]
    }
   ],
   "source": [
    "preds = my_pipeline.predict(X_test)\n",
    "\n",
    "# Evaluate the model\n",
    "score = mean_absolute_error(y_test, preds)\n",
    "print('Score:', 100-score)"
   ]
  },
  {
   "cell_type": "code",
   "execution_count": 269,
   "id": "320a7fbb-ff90-48b1-a86d-2348afa7dcb3",
   "metadata": {},
   "outputs": [],
   "source": [
    "candidate_id = test['candidate_id']\n",
    "test=test.drop(columns = 'candidate_id')"
   ]
  },
  {
   "cell_type": "code",
   "execution_count": 270,
   "id": "44552023-b630-44d4-a2f5-1397200fb6f0",
   "metadata": {},
   "outputs": [],
   "source": [
    "preds= my_pipeline.predict(test)"
   ]
  },
  {
   "cell_type": "code",
   "execution_count": 271,
   "id": "bcba6b06-ffb0-4c27-99be-fcb3c1967373",
   "metadata": {},
   "outputs": [
    {
     "data": {
      "text/html": [
       "<div>\n",
       "<style scoped>\n",
       "    .dataframe tbody tr th:only-of-type {\n",
       "        vertical-align: middle;\n",
       "    }\n",
       "\n",
       "    .dataframe tbody tr th {\n",
       "        vertical-align: top;\n",
       "    }\n",
       "\n",
       "    .dataframe thead th {\n",
       "        text-align: right;\n",
       "    }\n",
       "</style>\n",
       "<table border=\"1\" class=\"dataframe\">\n",
       "  <thead>\n",
       "    <tr style=\"text-align: right;\">\n",
       "      <th></th>\n",
       "      <th>candidate_id</th>\n",
       "      <th>triglyceride_lvl</th>\n",
       "    </tr>\n",
       "  </thead>\n",
       "  <tbody>\n",
       "    <tr>\n",
       "      <th>0</th>\n",
       "      <td>CAN_22401</td>\n",
       "      <td>118.79</td>\n",
       "    </tr>\n",
       "    <tr>\n",
       "      <th>1</th>\n",
       "      <td>CAN_22402</td>\n",
       "      <td>78.60</td>\n",
       "    </tr>\n",
       "    <tr>\n",
       "      <th>2</th>\n",
       "      <td>CAN_22403</td>\n",
       "      <td>43.75</td>\n",
       "    </tr>\n",
       "    <tr>\n",
       "      <th>3</th>\n",
       "      <td>CAN_22404</td>\n",
       "      <td>218.31</td>\n",
       "    </tr>\n",
       "    <tr>\n",
       "      <th>4</th>\n",
       "      <td>CAN_22405</td>\n",
       "      <td>192.95</td>\n",
       "    </tr>\n",
       "  </tbody>\n",
       "</table>\n",
       "</div>"
      ],
      "text/plain": [
       "  candidate_id  triglyceride_lvl\n",
       "0    CAN_22401            118.79\n",
       "1    CAN_22402             78.60\n",
       "2    CAN_22403             43.75\n",
       "3    CAN_22404            218.31\n",
       "4    CAN_22405            192.95"
      ]
     },
     "execution_count": 271,
     "metadata": {},
     "output_type": "execute_result"
    }
   ],
   "source": [
    "df = pd.DataFrame({'candidate_id' : list(candidate_id),'triglyceride_lvl' : preds})\n",
    "df.head()"
   ]
  },
  {
   "cell_type": "code",
   "execution_count": 272,
   "id": "785f1a74-e8ea-44ef-934e-510a3ab5d566",
   "metadata": {},
   "outputs": [],
   "source": [
    "df.to_csv(r'C:\\Users\\ehina\\OneDrive\\Desktop\\Py-DS-ML-Bootcamp-master\\Hackererath\\dataset\\submission.csv',index=False)"
   ]
  },
  {
   "cell_type": "code",
   "execution_count": 188,
   "id": "07f1542b-b5f7-41b8-8709-9c1988fe1ba6",
   "metadata": {},
   "outputs": [],
   "source": [
    "from sklearn.model_selection import GridSearchCV"
   ]
  },
  {
   "cell_type": "code",
   "execution_count": 231,
   "id": "09653497-2439-4e62-ae21-1cba6a4adc00",
   "metadata": {},
   "outputs": [
    {
     "name": "stdout",
     "output_type": "stream",
     "text": [
      "Best Hyperparameters: {'alpha': 0.001, 'epsilon': 1.0}\n"
     ]
    }
   ],
   "source": [
    "param_grid = {\n",
    "    'epsilon': [1.0, 1.5, 2.0],  # Huber loss threshold\n",
    "    'alpha': [0.0001, 0.001, 0.01]  # Regularization strength\n",
    "}\n",
    "\n",
    "# Create Gradient Boosting model\n",
    "model = HuberRegressor()\n",
    "\n",
    " # For regression\n",
    "\n",
    "# Create GridSearchCV object\n",
    "grid_search = GridSearchCV(model, param_grid,scoring='neg_mean_absolute_error',cv=5)  # Use negative MSE for minimization\n",
    "\n",
    "# Fit the GridSearchCV\n",
    "grid_search.fit(X_train,y_train)\n",
    "\n",
    "# Access best parameters and model\n",
    "best_parameters = grid_search.best_params_\n",
    "print(\"Best Hyperparameters:\", best_parameters)\n",
    "\n",
    "best_model = grid_search.best_estimator_\n"
   ]
  }
 ],
 "metadata": {
  "kernelspec": {
   "display_name": "Python 3 (ipykernel)",
   "language": "python",
   "name": "python3"
  },
  "language_info": {
   "codemirror_mode": {
    "name": "ipython",
    "version": 3
   },
   "file_extension": ".py",
   "mimetype": "text/x-python",
   "name": "python",
   "nbconvert_exporter": "python",
   "pygments_lexer": "ipython3",
   "version": "3.11.7"
  }
 },
 "nbformat": 4,
 "nbformat_minor": 5
}
